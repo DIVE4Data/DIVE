{
 "cells": [
  {
   "cell_type": "code",
   "execution_count": null,
   "metadata": {},
   "outputs": [],
   "source": [
    "from Scripts.get_Addresses import get_Addresses\n",
    "from Scripts.get_ContractFeatures import get_ContractFeatures\n",
    "from Scripts.construct_FinalData import construct_FinalData"
   ]
  },
  {
   "attachments": {},
   "cell_type": "markdown",
   "metadata": {},
   "source": [
    "# **1. Get Addresses**\n",
    "*   **Method call:** get_Addresses(Filenames as list)\n",
    "*   **To read all files:** pass [\"All\"] for the file name. \n",
    "*   **To get addresses from a specific file:** type the file name with \".csv\"\n",
    "*   **To get addresses from multiple files:** type ['file1.csv','file2.csv',...'fileN.csv']\n",
    "*   **Note:** The method reads files from the directory ./RawData/SC_Addresses/ (Update the config.json file to read files from another directory)\n",
    "---"
   ]
  },
  {
   "cell_type": "code",
   "execution_count": null,
   "metadata": {},
   "outputs": [],
   "source": [
    "addresses = get_Addresses(addressesFile = ['All']) "
   ]
  },
  {
   "attachments": {},
   "cell_type": "markdown",
   "metadata": {},
   "source": [
    "# **2. Get Contract Features**\n",
    "*   **Method call:** get_ContractFeatures(FeatureType as list,addresses as dataframe)\n",
    "*   **To get all feature types:** pass [\"All\"] for FeatureType. \n",
    "*   **To get specific feature type:** pass the feature type/s as follows:\n",
    "    *   **Account Info:** ['AccountInfo] or ['1']\n",
    "    *   **Contract Info:** ['ContractInfo] or ['2']\n",
    "    *   **Opcodes:** ['Opcodes] or ['3']\n",
    "*   **Note:** The method stores output in the directory ./Features/FEATURETYPE/ (Update the config.json file to store output in another directory)\n",
    "---"
   ]
  },
  {
   "cell_type": "code",
   "execution_count": null,
   "metadata": {},
   "outputs": [],
   "source": [
    "get_ContractFeatures(FeatureType=['All'],addresses=addresses)"
   ]
  },
  {
   "attachments": {},
   "cell_type": "markdown",
   "metadata": {},
   "source": [
    "# **3.Get Code Metrics**\n",
    "---"
   ]
  },
  {
   "cell_type": "code",
   "execution_count": null,
   "metadata": {},
   "outputs": [],
   "source": []
  },
  {
   "attachments": {},
   "cell_type": "markdown",
   "metadata": {},
   "source": [
    "# **Construct Final Data**\n",
    "---"
   ]
  },
  {
   "cell_type": "code",
   "execution_count": null,
   "metadata": {},
   "outputs": [],
   "source": [
    "DigVulSCDS = construct_FinalData(AccountInfo=['All'],ContractsInfo=['All'],Opcodes=['All'],CodeMetrics=['All'],Labels=['All'])"
   ]
  }
 ],
 "metadata": {
  "kernelspec": {
   "display_name": "Python 3",
   "language": "python",
   "name": "python3"
  },
  "language_info": {
   "codemirror_mode": {
    "name": "ipython",
    "version": 3
   },
   "file_extension": ".py",
   "mimetype": "text/x-python",
   "name": "python",
   "nbconvert_exporter": "python",
   "pygments_lexer": "ipython3",
   "version": "3.12.2"
  },
  "orig_nbformat": 4
 },
 "nbformat": 4,
 "nbformat_minor": 2
}
