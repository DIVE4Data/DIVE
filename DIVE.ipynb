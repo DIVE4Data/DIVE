{
 "cells": [
  {
   "cell_type": "code",
   "execution_count": 3,
   "metadata": {},
   "outputs": [],
   "source": [
    "from Scripts.get_Addresses import get_Addresses\n",
    "from Scripts.get_ContractFeatures import get_ContractFeatures\n",
    "from Scripts.FeatureExtraction.get_CodeMetrics import get_CodeMetrics\n",
    "from Scripts.construct_FinalData import construct_FinalData\n",
    "from Scripts.apply_DataPreprocessing import apply_DataPreprocessing\n",
    "from Scripts.get_DataStatistics import get_DataStatistics\n",
    "from Scripts.FeatureExtraction.get_OpcodesList import get_OpcodesList"
   ]
  },
  {
   "cell_type": "code",
   "execution_count": null,
   "metadata": {},
   "outputs": [],
   "source": [
    "get_OpcodesList()"
   ]
  },
  {
   "attachments": {},
   "cell_type": "markdown",
   "metadata": {},
   "source": [
    "# **1. Get Addresses**\n",
    "*   **Method call:** get_Addresses(Filenames as list)\n",
    "*   **To read all files:** pass [\"All\"] for the file name. \n",
    "*   **To get addresses from a specific file:** type the file name with \".csv\"\n",
    "*   **To get addresses from multiple files:** type ['file1.csv','file2.csv',...'fileN.csv']\n",
    "*   **Note:** The method reads files from the directory ./RawData/SC_Addresses/ (Update the config.json file to read files from another directory)\n",
    "---"
   ]
  },
  {
   "cell_type": "code",
   "execution_count": null,
   "metadata": {},
   "outputs": [],
   "source": [
    "addresses = get_Addresses(addressesFile = ['All']) "
   ]
  },
  {
   "attachments": {},
   "cell_type": "markdown",
   "metadata": {},
   "source": [
    "# **2. Get Contract Features**\n",
    "*   **Method call:** get_ContractFeatures(FeatureType as list,addresses as dataframe)\n",
    "*   **To get all feature types:** pass [\"All\"] for FeatureType. \n",
    "*   **To get specific feature type:** pass the feature type/s as follows:\n",
    "    *   **Account Info:** ['AccountInfo] or ['1']\n",
    "    *   **Contract Info:** ['ContractInfo] or ['2']\n",
    "    *   **Opcodes:** ['Opcodes] or ['3']\n",
    "*   **Note:** The method stores output in the directory ./Features/FEATURETYPE/ (Update the config.json file to store output in another directory)\n",
    "---"
   ]
  },
  {
   "cell_type": "code",
   "execution_count": null,
   "metadata": {},
   "outputs": [],
   "source": [
    "#get_ContractFeatures(FeatureType=['Type1','Type2',...],addresses=addresses,DatasetName='DatasetName')"
   ]
  },
  {
   "attachments": {},
   "cell_type": "markdown",
   "metadata": {},
   "source": [
    "# **3. Get Code Metrics**\n",
    "* **Ref:** https://classic.yarnpkg.com/en/package/solidity-code-metrics\n",
    "* **Tool:** solidity-code-metrics (v0.0.26)\n",
    "* **Package installation:** npm install solidity-code-metrics\n",
    "* **Method call:** get_CodeMetrics(SamplesDir = 'Samples directory path')\n",
    "  * To process samples in the default directory: SamplesDir = '' or SamplesDir = 'default'\n",
    "  * To process samples in the another directory: SamplesDir = 'Type the path to the samples directory.'\n",
    "* **Note:** \n",
    "  * The default samples path is: ./RawData/Samples\n",
    "  * The method stores output in the directory ./Features/CodeMetrics/ \n",
    "  * Update the config.json file to read from or store in another directory\n",
    "\n",
    "---"
   ]
  },
  {
   "cell_type": "code",
   "execution_count": null,
   "metadata": {},
   "outputs": [],
   "source": [
    "#preProcessed_metricsDF = get_CodeMetrics(SamplesFolderName = 'SamplesFolderName', SamplesDirPath = '', DatasetName = '')"
   ]
  },
  {
   "attachments": {},
   "cell_type": "markdown",
   "metadata": {},
   "source": [
    "# **4. Construct Final Data**\n",
    "---"
   ]
  },
  {
   "cell_type": "code",
   "execution_count": null,
   "metadata": {},
   "outputs": [],
   "source": [
    "#construct_FinalData(FinalDatasetName = 'FinalDatasetName', Dataset =['Datase#1tName', 'Datase#2tName', ...], FeatureTypes ={'Type1':['All' 'or list files'], 'Type2':['All' 'or list files'] , ... }, applyPreprocessing =  = \"True or Fslse\")"
   ]
  },
  {
   "attachments": {},
   "cell_type": "markdown",
   "metadata": {},
   "source": [
    "# **5. Apply Data Preprocessing**\n",
    "---"
   ]
  },
  {
   "cell_type": "code",
   "execution_count": null,
   "metadata": {},
   "outputs": [],
   "source": [
    "#apply_DataPreprocessing(datasetName ='datasetName',dataDirPath=True or 'dataset path',PreprocessingTasks=['taks1', 'task2', ...] or ['all'])"
   ]
  },
  {
   "attachments": {},
   "cell_type": "markdown",
   "metadata": {},
   "source": [
    "# **6. Get Data Statistics**\n",
    "---"
   ]
  },
  {
   "cell_type": "code",
   "execution_count": null,
   "metadata": {},
   "outputs": [],
   "source": [
    "# get_DataStatistics(datasetName = \"datasetName\", voteDataName =\"voteDataName\", dataset_defaultDir = \"True or Fslse\", voteData_defaultDir  = \"True or Fslse\", QuickReport  = \"True or Fslse\")"
   ]
  }
 ],
 "metadata": {
  "kernelspec": {
   "display_name": "Python 3",
   "language": "python",
   "name": "python3"
  },
  "language_info": {
   "codemirror_mode": {
    "name": "ipython",
    "version": 3
   },
   "file_extension": ".py",
   "mimetype": "text/x-python",
   "name": "python",
   "nbconvert_exporter": "python",
   "pygments_lexer": "ipython3",
   "version": "3.12.2"
  },
  "orig_nbformat": 4
 },
 "nbformat": 4,
 "nbformat_minor": 2
}
