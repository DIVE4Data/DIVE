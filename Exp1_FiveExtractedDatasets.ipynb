{
 "cells": [
  {
   "cell_type": "code",
   "execution_count": 1,
   "metadata": {},
   "outputs": [],
   "source": [
    "from Scripts.get_Addresses import get_Addresses\n",
    "from Scripts.get_ContractFeatures import get_ContractFeatures\n",
    "from Scripts.get_CodeMetrics import get_CodeMetrics\n",
    "from Scripts.construct_FinalData import construct_FinalData\n",
    "from Scripts.get_DataStatistics import get_DataStatistics"
   ]
  },
  {
   "attachments": {},
   "cell_type": "markdown",
   "metadata": {},
   "source": [
    "# **Dataset #1: Doublade**\n",
    "---"
   ]
  },
  {
   "attachments": {},
   "cell_type": "markdown",
   "metadata": {},
   "source": [
    "## **1. Read Addresses**\n",
    "---"
   ]
  },
  {
   "cell_type": "code",
   "execution_count": 12,
   "metadata": {},
   "outputs": [
    {
     "data": {
      "text/html": [
       "<div>\n",
       "<style scoped>\n",
       "    .dataframe tbody tr th:only-of-type {\n",
       "        vertical-align: middle;\n",
       "    }\n",
       "\n",
       "    .dataframe tbody tr th {\n",
       "        vertical-align: top;\n",
       "    }\n",
       "\n",
       "    .dataframe thead th {\n",
       "        text-align: right;\n",
       "    }\n",
       "</style>\n",
       "<table border=\"1\" class=\"dataframe\">\n",
       "  <thead>\n",
       "    <tr style=\"text-align: right;\">\n",
       "      <th></th>\n",
       "      <th>contractAddress</th>\n",
       "    </tr>\n",
       "  </thead>\n",
       "  <tbody>\n",
       "    <tr>\n",
       "      <th>0</th>\n",
       "      <td>0x017a5d8d82afaa22bc29d75013d6ff3656e90851</td>\n",
       "    </tr>\n",
       "    <tr>\n",
       "      <th>1</th>\n",
       "      <td>0x038cf0fe8b400538211b0cdc2dbf4e9a8a36bda4</td>\n",
       "    </tr>\n",
       "    <tr>\n",
       "      <th>2</th>\n",
       "      <td>0x047187e53477be70dbe8ea5b799318f2e165052f</td>\n",
       "    </tr>\n",
       "    <tr>\n",
       "      <th>3</th>\n",
       "      <td>0x0528c39ef9f1fd7a05ef18f64408108fae156ab1</td>\n",
       "    </tr>\n",
       "    <tr>\n",
       "      <th>4</th>\n",
       "      <td>0x05cd27a978fc9f9919a5f4c5c03e5947ed7d4c4d</td>\n",
       "    </tr>\n",
       "    <tr>\n",
       "      <th>...</th>\n",
       "      <td>...</td>\n",
       "    </tr>\n",
       "    <tr>\n",
       "      <th>161</th>\n",
       "      <td>0xfa35645dd7d666f7f8743db98245518cdf348667</td>\n",
       "    </tr>\n",
       "    <tr>\n",
       "      <th>162</th>\n",
       "      <td>0xfacc5b21597487575667dde047fc6e5d58bdae55</td>\n",
       "    </tr>\n",
       "    <tr>\n",
       "      <th>163</th>\n",
       "      <td>0xfdf8de115951517d16fdaedc088d2b67aed5b031</td>\n",
       "    </tr>\n",
       "    <tr>\n",
       "      <th>164</th>\n",
       "      <td>0xfea71f436ec963507c26f424d93168e4285cd822</td>\n",
       "    </tr>\n",
       "    <tr>\n",
       "      <th>165</th>\n",
       "      <td>0xffcf7f75602157e36fbe09047e7fafaf69e530e8</td>\n",
       "    </tr>\n",
       "  </tbody>\n",
       "</table>\n",
       "<p>166 rows × 1 columns</p>\n",
       "</div>"
      ],
      "text/plain": [
       "                                contractAddress\n",
       "0    0x017a5d8d82afaa22bc29d75013d6ff3656e90851\n",
       "1    0x038cf0fe8b400538211b0cdc2dbf4e9a8a36bda4\n",
       "2    0x047187e53477be70dbe8ea5b799318f2e165052f\n",
       "3    0x0528c39ef9f1fd7a05ef18f64408108fae156ab1\n",
       "4    0x05cd27a978fc9f9919a5f4c5c03e5947ed7d4c4d\n",
       "..                                          ...\n",
       "161  0xfa35645dd7d666f7f8743db98245518cdf348667\n",
       "162  0xfacc5b21597487575667dde047fc6e5d58bdae55\n",
       "163  0xfdf8de115951517d16fdaedc088d2b67aed5b031\n",
       "164  0xfea71f436ec963507c26f424d93168e4285cd822\n",
       "165  0xffcf7f75602157e36fbe09047e7fafaf69e530e8\n",
       "\n",
       "[166 rows x 1 columns]"
      ]
     },
     "execution_count": 12,
     "metadata": {},
     "output_type": "execute_result"
    }
   ],
   "source": [
    "DoubladeAddresses = get_Addresses(addressesFile = ['Doublade.csv'])\n",
    "DoubladeAddresses"
   ]
  },
  {
   "attachments": {},
   "cell_type": "markdown",
   "metadata": {},
   "source": [
    "## **2. Retrieve Contract Features**\n",
    "---"
   ]
  },
  {
   "cell_type": "code",
   "execution_count": null,
   "metadata": {},
   "outputs": [],
   "source": [
    "get_ContractFeatures(FeatureType=['All'],addresses=DoubladeAddresses,DatasetName='Doublade')"
   ]
  },
  {
   "attachments": {},
   "cell_type": "markdown",
   "metadata": {},
   "source": [
    "## **3. Extract Code Metrics**\n",
    "---"
   ]
  },
  {
   "cell_type": "code",
   "execution_count": null,
   "metadata": {},
   "outputs": [],
   "source": []
  },
  {
   "attachments": {},
   "cell_type": "markdown",
   "metadata": {},
   "source": [
    "## **4. Assemble Dataset Parts**\n",
    "---"
   ]
  },
  {
   "cell_type": "code",
   "execution_count": null,
   "metadata": {},
   "outputs": [],
   "source": []
  },
  {
   "attachments": {},
   "cell_type": "markdown",
   "metadata": {},
   "source": [
    "## **5. Apply Data Preprocessing**\n",
    "---"
   ]
  },
  {
   "cell_type": "code",
   "execution_count": null,
   "metadata": {},
   "outputs": [],
   "source": []
  },
  {
   "attachments": {},
   "cell_type": "markdown",
   "metadata": {},
   "source": [
    "## **6. Statistics & Analysis**\n",
    "---"
   ]
  },
  {
   "cell_type": "code",
   "execution_count": null,
   "metadata": {},
   "outputs": [],
   "source": []
  },
  {
   "attachments": {},
   "cell_type": "markdown",
   "metadata": {},
   "source": [
    "# **Dataset #2: eThor**\n",
    "---"
   ]
  },
  {
   "attachments": {},
   "cell_type": "markdown",
   "metadata": {},
   "source": [
    "## **1. Read Addresses**\n",
    "---"
   ]
  },
  {
   "cell_type": "code",
   "execution_count": 13,
   "metadata": {},
   "outputs": [
    {
     "data": {
      "text/html": [
       "<div>\n",
       "<style scoped>\n",
       "    .dataframe tbody tr th:only-of-type {\n",
       "        vertical-align: middle;\n",
       "    }\n",
       "\n",
       "    .dataframe tbody tr th {\n",
       "        vertical-align: top;\n",
       "    }\n",
       "\n",
       "    .dataframe thead th {\n",
       "        text-align: right;\n",
       "    }\n",
       "</style>\n",
       "<table border=\"1\" class=\"dataframe\">\n",
       "  <thead>\n",
       "    <tr style=\"text-align: right;\">\n",
       "      <th></th>\n",
       "      <th>contractAddress</th>\n",
       "    </tr>\n",
       "  </thead>\n",
       "  <tbody>\n",
       "    <tr>\n",
       "      <th>0</th>\n",
       "      <td>0x015a06a433353f8db634df4eddf0c109882a15ab</td>\n",
       "    </tr>\n",
       "    <tr>\n",
       "      <th>1</th>\n",
       "      <td>0x019d7e5ae8d2ba9a292244311dc7355058ab1b08</td>\n",
       "    </tr>\n",
       "    <tr>\n",
       "      <th>2</th>\n",
       "      <td>0x01afc37f4f85babc47c0e2d0eababc7fb49793c8</td>\n",
       "    </tr>\n",
       "    <tr>\n",
       "      <th>3</th>\n",
       "      <td>0x022de2e28a61f9d197f8966dd0fc8f7ddf70f2dc</td>\n",
       "    </tr>\n",
       "    <tr>\n",
       "      <th>4</th>\n",
       "      <td>0x04daec4e1fc6a4b4555b509b7c5c673ebad29f1f</td>\n",
       "    </tr>\n",
       "    <tr>\n",
       "      <th>...</th>\n",
       "      <td>...</td>\n",
       "    </tr>\n",
       "    <tr>\n",
       "      <th>218</th>\n",
       "      <td>0xf884e0096f826f82d9999dc11becb836dbb7c1f7</td>\n",
       "    </tr>\n",
       "    <tr>\n",
       "      <th>219</th>\n",
       "      <td>0xf9735dc96a98f68ac8fe6fccf1e7b9876ddb6b47</td>\n",
       "    </tr>\n",
       "    <tr>\n",
       "      <th>220</th>\n",
       "      <td>0xfac50f760d114de38bf0a6d44f31a9c22f778db3</td>\n",
       "    </tr>\n",
       "    <tr>\n",
       "      <th>221</th>\n",
       "      <td>0xff3216f86a723f2c23b03b5cd1f622eb1a204159</td>\n",
       "    </tr>\n",
       "    <tr>\n",
       "      <th>222</th>\n",
       "      <td>0xff95fbb77852c846724ce4fa140ca25f31a90bb0</td>\n",
       "    </tr>\n",
       "  </tbody>\n",
       "</table>\n",
       "<p>223 rows × 1 columns</p>\n",
       "</div>"
      ],
      "text/plain": [
       "                                contractAddress\n",
       "0    0x015a06a433353f8db634df4eddf0c109882a15ab\n",
       "1    0x019d7e5ae8d2ba9a292244311dc7355058ab1b08\n",
       "2    0x01afc37f4f85babc47c0e2d0eababc7fb49793c8\n",
       "3    0x022de2e28a61f9d197f8966dd0fc8f7ddf70f2dc\n",
       "4    0x04daec4e1fc6a4b4555b509b7c5c673ebad29f1f\n",
       "..                                          ...\n",
       "218  0xf884e0096f826f82d9999dc11becb836dbb7c1f7\n",
       "219  0xf9735dc96a98f68ac8fe6fccf1e7b9876ddb6b47\n",
       "220  0xfac50f760d114de38bf0a6d44f31a9c22f778db3\n",
       "221  0xff3216f86a723f2c23b03b5cd1f622eb1a204159\n",
       "222  0xff95fbb77852c846724ce4fa140ca25f31a90bb0\n",
       "\n",
       "[223 rows x 1 columns]"
      ]
     },
     "execution_count": 13,
     "metadata": {},
     "output_type": "execute_result"
    }
   ],
   "source": [
    "eThorAddresses = get_Addresses(addressesFile = ['eThor.csv'])\n",
    "eThorAddresses"
   ]
  },
  {
   "attachments": {},
   "cell_type": "markdown",
   "metadata": {},
   "source": [
    "## **2. Retrieve Contract Features**\n",
    "---"
   ]
  },
  {
   "cell_type": "code",
   "execution_count": null,
   "metadata": {},
   "outputs": [],
   "source": [
    "get_ContractFeatures(FeatureType=['All'],addresses=eThorAddresses,DatasetName='eThor')"
   ]
  },
  {
   "attachments": {},
   "cell_type": "markdown",
   "metadata": {},
   "source": [
    "## **3. Extract Code Metrics**\n",
    "---"
   ]
  },
  {
   "cell_type": "code",
   "execution_count": null,
   "metadata": {},
   "outputs": [],
   "source": []
  },
  {
   "attachments": {},
   "cell_type": "markdown",
   "metadata": {},
   "source": [
    "## **4. Assemble Dataset Parts**\n",
    "---"
   ]
  },
  {
   "cell_type": "code",
   "execution_count": null,
   "metadata": {},
   "outputs": [],
   "source": []
  },
  {
   "attachments": {},
   "cell_type": "markdown",
   "metadata": {},
   "source": [
    "## **5. Apply Data Preprocessing**\n",
    "---"
   ]
  },
  {
   "cell_type": "code",
   "execution_count": null,
   "metadata": {},
   "outputs": [],
   "source": []
  },
  {
   "attachments": {},
   "cell_type": "markdown",
   "metadata": {},
   "source": [
    "## **6. Statistics & Analysis**\n",
    "---"
   ]
  },
  {
   "cell_type": "code",
   "execution_count": null,
   "metadata": {},
   "outputs": [],
   "source": []
  },
  {
   "attachments": {},
   "cell_type": "markdown",
   "metadata": {},
   "source": [
    "# **Dataset #3: NotSoSmartC**\n",
    "---"
   ]
  },
  {
   "attachments": {},
   "cell_type": "markdown",
   "metadata": {},
   "source": [
    "## **1. Read Addresses**\n",
    "---"
   ]
  },
  {
   "cell_type": "code",
   "execution_count": 14,
   "metadata": {},
   "outputs": [
    {
     "data": {
      "text/html": [
       "<div>\n",
       "<style scoped>\n",
       "    .dataframe tbody tr th:only-of-type {\n",
       "        vertical-align: middle;\n",
       "    }\n",
       "\n",
       "    .dataframe tbody tr th {\n",
       "        vertical-align: top;\n",
       "    }\n",
       "\n",
       "    .dataframe thead th {\n",
       "        text-align: right;\n",
       "    }\n",
       "</style>\n",
       "<table border=\"1\" class=\"dataframe\">\n",
       "  <thead>\n",
       "    <tr style=\"text-align: right;\">\n",
       "      <th></th>\n",
       "      <th>contractAddress</th>\n",
       "    </tr>\n",
       "  </thead>\n",
       "  <tbody>\n",
       "    <tr>\n",
       "      <th>0</th>\n",
       "      <td>0x42d6622dece394b54999fbd73d108123806f6a18</td>\n",
       "    </tr>\n",
       "    <tr>\n",
       "      <th>1</th>\n",
       "      <td>0xf91546835f756da0c10cfa0cda95b15577b84aa7</td>\n",
       "    </tr>\n",
       "    <tr>\n",
       "      <th>2</th>\n",
       "      <td>0x13c547ff0888a0a876e6f1304eaefe9e6e06fc4b</td>\n",
       "    </tr>\n",
       "    <tr>\n",
       "      <th>3</th>\n",
       "      <td>0x7e97c48497a8d650dc030744b74c81e29816f8e3</td>\n",
       "    </tr>\n",
       "    <tr>\n",
       "      <th>4</th>\n",
       "      <td>0xdf77e4a81fba17e0cc39dba521aa4167f388ed7c</td>\n",
       "    </tr>\n",
       "    <tr>\n",
       "      <th>5</th>\n",
       "      <td>0x95d34980095380851902ccd9a1fb4c813c2cb639</td>\n",
       "    </tr>\n",
       "    <tr>\n",
       "      <th>6</th>\n",
       "      <td>0x791d0463b8813b827807a36852e4778be01b704e</td>\n",
       "    </tr>\n",
       "    <tr>\n",
       "      <th>7</th>\n",
       "      <td>0xa657491c1e7f16adb39b9b60e87bbb8d93988bc3</td>\n",
       "    </tr>\n",
       "  </tbody>\n",
       "</table>\n",
       "</div>"
      ],
      "text/plain": [
       "                              contractAddress\n",
       "0  0x42d6622dece394b54999fbd73d108123806f6a18\n",
       "1  0xf91546835f756da0c10cfa0cda95b15577b84aa7\n",
       "2  0x13c547ff0888a0a876e6f1304eaefe9e6e06fc4b\n",
       "3  0x7e97c48497a8d650dc030744b74c81e29816f8e3\n",
       "4  0xdf77e4a81fba17e0cc39dba521aa4167f388ed7c\n",
       "5  0x95d34980095380851902ccd9a1fb4c813c2cb639\n",
       "6  0x791d0463b8813b827807a36852e4778be01b704e\n",
       "7  0xa657491c1e7f16adb39b9b60e87bbb8d93988bc3"
      ]
     },
     "execution_count": 14,
     "metadata": {},
     "output_type": "execute_result"
    }
   ],
   "source": [
    "NotSoSmartCAddresses = get_Addresses(addressesFile = ['NotSoSmartC.csv'])\n",
    "NotSoSmartCAddresses"
   ]
  },
  {
   "attachments": {},
   "cell_type": "markdown",
   "metadata": {},
   "source": [
    "## **2. Retrieve Contract Features**\n",
    "---"
   ]
  },
  {
   "cell_type": "code",
   "execution_count": null,
   "metadata": {},
   "outputs": [],
   "source": [
    "get_ContractFeatures(FeatureType=['All'],addresses=NotSoSmartCAddresses,DatasetName='NotSoSmartC')"
   ]
  },
  {
   "attachments": {},
   "cell_type": "markdown",
   "metadata": {},
   "source": [
    "## **3. Extract Code Metrics**\n",
    "---"
   ]
  },
  {
   "cell_type": "code",
   "execution_count": null,
   "metadata": {},
   "outputs": [],
   "source": []
  },
  {
   "attachments": {},
   "cell_type": "markdown",
   "metadata": {},
   "source": [
    "## **4. Assemble Dataset Parts**\n",
    "---"
   ]
  },
  {
   "cell_type": "code",
   "execution_count": null,
   "metadata": {},
   "outputs": [],
   "source": []
  },
  {
   "attachments": {},
   "cell_type": "markdown",
   "metadata": {},
   "source": [
    "## **5. Apply Data Preprocessing**\n",
    "---"
   ]
  },
  {
   "cell_type": "code",
   "execution_count": null,
   "metadata": {},
   "outputs": [],
   "source": []
  },
  {
   "attachments": {},
   "cell_type": "markdown",
   "metadata": {},
   "source": [
    "## **6. Statistics & Analysis**\n",
    "---"
   ]
  },
  {
   "cell_type": "code",
   "execution_count": null,
   "metadata": {},
   "outputs": [],
   "source": []
  },
  {
   "attachments": {},
   "cell_type": "markdown",
   "metadata": {},
   "source": [
    "# **Dataset #4: SBcurated**\n",
    "---"
   ]
  },
  {
   "attachments": {},
   "cell_type": "markdown",
   "metadata": {},
   "source": [
    "## **1. Read Addresses**\n",
    "---"
   ]
  },
  {
   "cell_type": "code",
   "execution_count": 8,
   "metadata": {},
   "outputs": [
    {
     "data": {
      "text/html": [
       "<div>\n",
       "<style scoped>\n",
       "    .dataframe tbody tr th:only-of-type {\n",
       "        vertical-align: middle;\n",
       "    }\n",
       "\n",
       "    .dataframe tbody tr th {\n",
       "        vertical-align: top;\n",
       "    }\n",
       "\n",
       "    .dataframe thead th {\n",
       "        text-align: right;\n",
       "    }\n",
       "</style>\n",
       "<table border=\"1\" class=\"dataframe\">\n",
       "  <thead>\n",
       "    <tr style=\"text-align: right;\">\n",
       "      <th></th>\n",
       "      <th>contractAddress</th>\n",
       "    </tr>\n",
       "  </thead>\n",
       "  <tbody>\n",
       "    <tr>\n",
       "      <th>0</th>\n",
       "      <td>0x01f8c4e3fa3edeb29e514cba738d87ce8c091d3f</td>\n",
       "    </tr>\n",
       "    <tr>\n",
       "      <th>1</th>\n",
       "      <td>0x07f7ecb66d788ab01dc93b9b71a88401de7d0f2e</td>\n",
       "    </tr>\n",
       "    <tr>\n",
       "      <th>2</th>\n",
       "      <td>0x0cbe050f75bc8f8c2d6c0d249fea125fd6e1acc9</td>\n",
       "    </tr>\n",
       "    <tr>\n",
       "      <th>3</th>\n",
       "      <td>0x19cf8481ea15427a98ba3cdd6d9e14690011ab10</td>\n",
       "    </tr>\n",
       "    <tr>\n",
       "      <th>4</th>\n",
       "      <td>0x2972d548497286d18e92b5fa1f8f9139e5653fd2</td>\n",
       "    </tr>\n",
       "    <tr>\n",
       "      <th>5</th>\n",
       "      <td>0x39cfd754c85023648bf003bea2dd498c5612abfa</td>\n",
       "    </tr>\n",
       "    <tr>\n",
       "      <th>6</th>\n",
       "      <td>0x3a0e9acd953ffc0dd18d63603488846a6b8b2b01</td>\n",
       "    </tr>\n",
       "    <tr>\n",
       "      <th>7</th>\n",
       "      <td>0x4051334adc52057aca763453820cb0e045076ef3</td>\n",
       "    </tr>\n",
       "    <tr>\n",
       "      <th>8</th>\n",
       "      <td>0x4a66ad0bca2d700f11e1f2fc2c106f7d3264504c</td>\n",
       "    </tr>\n",
       "    <tr>\n",
       "      <th>9</th>\n",
       "      <td>0x524960d55174d912768678d8c606b4d50b79d7b1</td>\n",
       "    </tr>\n",
       "    <tr>\n",
       "      <th>10</th>\n",
       "      <td>0x52d2e0f9b01101a59b38a3d05c80b7618aeed984</td>\n",
       "    </tr>\n",
       "    <tr>\n",
       "      <th>11</th>\n",
       "      <td>0x610495793564aed0f9c7fc48dc4c7c9151d34fd6</td>\n",
       "    </tr>\n",
       "    <tr>\n",
       "      <th>12</th>\n",
       "      <td>0x627fa62ccbb1c1b04ffaecd72a53e37fc0e17839</td>\n",
       "    </tr>\n",
       "    <tr>\n",
       "      <th>13</th>\n",
       "      <td>0x663e4229142a27f00bafb5d087e1e730648314c3</td>\n",
       "    </tr>\n",
       "    <tr>\n",
       "      <th>14</th>\n",
       "      <td>0x70f9eddb3931491aab1aeafbc1e7f1ca2a012db4</td>\n",
       "    </tr>\n",
       "    <tr>\n",
       "      <th>15</th>\n",
       "      <td>0x7541b76cb60f4c60af330c208b0623b7f54bf615</td>\n",
       "    </tr>\n",
       "    <tr>\n",
       "      <th>16</th>\n",
       "      <td>0x7d09edb07d23acb532a82be3da5c17d9d85806b4</td>\n",
       "    </tr>\n",
       "    <tr>\n",
       "      <th>17</th>\n",
       "      <td>0x806a6bd219f162442d992bdc4ee6eba1f2c5a707</td>\n",
       "    </tr>\n",
       "    <tr>\n",
       "      <th>18</th>\n",
       "      <td>0x84d9ec85c9c568eb332b7226a8f826d897e0a4a8</td>\n",
       "    </tr>\n",
       "    <tr>\n",
       "      <th>19</th>\n",
       "      <td>0x89c1b3807d4c67df034fffb62f3509561218d30b</td>\n",
       "    </tr>\n",
       "    <tr>\n",
       "      <th>20</th>\n",
       "      <td>0x8c7777c45481dba411450c228cb692ac3d550344</td>\n",
       "    </tr>\n",
       "    <tr>\n",
       "      <th>21</th>\n",
       "      <td>0x8fd1e427396ddb511533cf9abdbebd0a7e08da35</td>\n",
       "    </tr>\n",
       "    <tr>\n",
       "      <th>22</th>\n",
       "      <td>0x941d225236464a25eb18076df7da6a91d0f95e9e</td>\n",
       "    </tr>\n",
       "    <tr>\n",
       "      <th>23</th>\n",
       "      <td>0x958a8f594101d2c0485a52319f29b2647f2ebc06</td>\n",
       "    </tr>\n",
       "    <tr>\n",
       "      <th>24</th>\n",
       "      <td>0x96edbe868531bd23a6c05e9d0c424ea64fb1b78b</td>\n",
       "    </tr>\n",
       "    <tr>\n",
       "      <th>25</th>\n",
       "      <td>0x9d06cbafa865037a01d322d3f4222fa3e04e5488</td>\n",
       "    </tr>\n",
       "    <tr>\n",
       "      <th>26</th>\n",
       "      <td>0xa1fceeff3acc57d257b917e30c4df661401d6431</td>\n",
       "    </tr>\n",
       "    <tr>\n",
       "      <th>27</th>\n",
       "      <td>0xa46edd6a9a93feec36576ee5048146870ea2c3ae</td>\n",
       "    </tr>\n",
       "    <tr>\n",
       "      <th>28</th>\n",
       "      <td>0xb0510d68f210b7db66e8c7c814f22680f2b8d1d6</td>\n",
       "    </tr>\n",
       "    <tr>\n",
       "      <th>29</th>\n",
       "      <td>0xb11b2fed6c9354f7aa2f658d3b4d7b31d8a13b77</td>\n",
       "    </tr>\n",
       "    <tr>\n",
       "      <th>30</th>\n",
       "      <td>0xb37f18af15bafb869a065b61fc83cfc44ed9cc27</td>\n",
       "    </tr>\n",
       "    <tr>\n",
       "      <th>31</th>\n",
       "      <td>0xb5e1b1ee15c6fa0e48fce100125569d430f1bd12</td>\n",
       "    </tr>\n",
       "    <tr>\n",
       "      <th>32</th>\n",
       "      <td>0xb7c5c5aa4d42967efe906e1b66cb8df9cebf04f7</td>\n",
       "    </tr>\n",
       "    <tr>\n",
       "      <th>33</th>\n",
       "      <td>0xbaa3de6504690efb064420d89e871c27065cdd52</td>\n",
       "    </tr>\n",
       "    <tr>\n",
       "      <th>34</th>\n",
       "      <td>0xbe4041d55db380c5ae9d4a9b9703f1ed4e7e3888</td>\n",
       "    </tr>\n",
       "    <tr>\n",
       "      <th>35</th>\n",
       "      <td>0xdb1c55f6926e7d847ddf8678905ad871a68199d2</td>\n",
       "    </tr>\n",
       "    <tr>\n",
       "      <th>36</th>\n",
       "      <td>0xe09b1ab8111c2729a76f16de96bc86a7af837928</td>\n",
       "    </tr>\n",
       "    <tr>\n",
       "      <th>37</th>\n",
       "      <td>0xe4eabdca81e31d9acbc4af76b30f532b6ed7f3bf</td>\n",
       "    </tr>\n",
       "    <tr>\n",
       "      <th>38</th>\n",
       "      <td>0xe82f0742a71a02b9e9ffc142fdcb6eb1ed06fb87</td>\n",
       "    </tr>\n",
       "    <tr>\n",
       "      <th>39</th>\n",
       "      <td>0xe894d54dca59cb53fe9cbc5155093605c7068220</td>\n",
       "    </tr>\n",
       "    <tr>\n",
       "      <th>40</th>\n",
       "      <td>0xec329ffc97d75fe03428ae155fc7793431487f63</td>\n",
       "    </tr>\n",
       "    <tr>\n",
       "      <th>41</th>\n",
       "      <td>0xf2570186500a46986f3139f65afedc2afe4f445d</td>\n",
       "    </tr>\n",
       "    <tr>\n",
       "      <th>42</th>\n",
       "      <td>0xf29ebe930a539a60279ace72c707cba851a57707</td>\n",
       "    </tr>\n",
       "    <tr>\n",
       "      <th>43</th>\n",
       "      <td>0x94602b0e2512ddad62a935763bf1277c973b2758</td>\n",
       "    </tr>\n",
       "    <tr>\n",
       "      <th>44</th>\n",
       "      <td>0xa11e4ed59dc94e69612f3111942626ed513cb172</td>\n",
       "    </tr>\n",
       "    <tr>\n",
       "      <th>45</th>\n",
       "      <td>0xcc88937f325d1c6b97da0afdbb4ca542efa70870</td>\n",
       "    </tr>\n",
       "    <tr>\n",
       "      <th>46</th>\n",
       "      <td>0x8bb1bfdb49b4d75b2fa1291e2a897d66cc6717b3</td>\n",
       "    </tr>\n",
       "    <tr>\n",
       "      <th>47</th>\n",
       "      <td>0x741f1923974464efd0aa70e77800ba5d9ed18902</td>\n",
       "    </tr>\n",
       "    <tr>\n",
       "      <th>48</th>\n",
       "      <td>0x4c0d948d293d3a57391ccb42a2ff9744998aa215</td>\n",
       "    </tr>\n",
       "    <tr>\n",
       "      <th>49</th>\n",
       "      <td>0xc320e373b369b58e716c1925780d36f703030f3d</td>\n",
       "    </tr>\n",
       "    <tr>\n",
       "      <th>50</th>\n",
       "      <td>0x58058b28e7a9c49253146b1bec94cc6e733e3ca4</td>\n",
       "    </tr>\n",
       "    <tr>\n",
       "      <th>51</th>\n",
       "      <td>0x5ace17f87c7391e5792a7683069a8025b83bbd85</td>\n",
       "    </tr>\n",
       "    <tr>\n",
       "      <th>52</th>\n",
       "      <td>0xb801f35f99b437bcef8789db26d1695c26c7b14b</td>\n",
       "    </tr>\n",
       "  </tbody>\n",
       "</table>\n",
       "</div>"
      ],
      "text/plain": [
       "                               contractAddress\n",
       "0   0x01f8c4e3fa3edeb29e514cba738d87ce8c091d3f\n",
       "1   0x07f7ecb66d788ab01dc93b9b71a88401de7d0f2e\n",
       "2   0x0cbe050f75bc8f8c2d6c0d249fea125fd6e1acc9\n",
       "3   0x19cf8481ea15427a98ba3cdd6d9e14690011ab10\n",
       "4   0x2972d548497286d18e92b5fa1f8f9139e5653fd2\n",
       "5   0x39cfd754c85023648bf003bea2dd498c5612abfa\n",
       "6   0x3a0e9acd953ffc0dd18d63603488846a6b8b2b01\n",
       "7   0x4051334adc52057aca763453820cb0e045076ef3\n",
       "8   0x4a66ad0bca2d700f11e1f2fc2c106f7d3264504c\n",
       "9   0x524960d55174d912768678d8c606b4d50b79d7b1\n",
       "10  0x52d2e0f9b01101a59b38a3d05c80b7618aeed984\n",
       "11  0x610495793564aed0f9c7fc48dc4c7c9151d34fd6\n",
       "12  0x627fa62ccbb1c1b04ffaecd72a53e37fc0e17839\n",
       "13  0x663e4229142a27f00bafb5d087e1e730648314c3\n",
       "14  0x70f9eddb3931491aab1aeafbc1e7f1ca2a012db4\n",
       "15  0x7541b76cb60f4c60af330c208b0623b7f54bf615\n",
       "16  0x7d09edb07d23acb532a82be3da5c17d9d85806b4\n",
       "17  0x806a6bd219f162442d992bdc4ee6eba1f2c5a707\n",
       "18  0x84d9ec85c9c568eb332b7226a8f826d897e0a4a8\n",
       "19  0x89c1b3807d4c67df034fffb62f3509561218d30b\n",
       "20  0x8c7777c45481dba411450c228cb692ac3d550344\n",
       "21  0x8fd1e427396ddb511533cf9abdbebd0a7e08da35\n",
       "22  0x941d225236464a25eb18076df7da6a91d0f95e9e\n",
       "23  0x958a8f594101d2c0485a52319f29b2647f2ebc06\n",
       "24  0x96edbe868531bd23a6c05e9d0c424ea64fb1b78b\n",
       "25  0x9d06cbafa865037a01d322d3f4222fa3e04e5488\n",
       "26  0xa1fceeff3acc57d257b917e30c4df661401d6431\n",
       "27  0xa46edd6a9a93feec36576ee5048146870ea2c3ae\n",
       "28  0xb0510d68f210b7db66e8c7c814f22680f2b8d1d6\n",
       "29  0xb11b2fed6c9354f7aa2f658d3b4d7b31d8a13b77\n",
       "30  0xb37f18af15bafb869a065b61fc83cfc44ed9cc27\n",
       "31  0xb5e1b1ee15c6fa0e48fce100125569d430f1bd12\n",
       "32  0xb7c5c5aa4d42967efe906e1b66cb8df9cebf04f7\n",
       "33  0xbaa3de6504690efb064420d89e871c27065cdd52\n",
       "34  0xbe4041d55db380c5ae9d4a9b9703f1ed4e7e3888\n",
       "35  0xdb1c55f6926e7d847ddf8678905ad871a68199d2\n",
       "36  0xe09b1ab8111c2729a76f16de96bc86a7af837928\n",
       "37  0xe4eabdca81e31d9acbc4af76b30f532b6ed7f3bf\n",
       "38  0xe82f0742a71a02b9e9ffc142fdcb6eb1ed06fb87\n",
       "39  0xe894d54dca59cb53fe9cbc5155093605c7068220\n",
       "40  0xec329ffc97d75fe03428ae155fc7793431487f63\n",
       "41  0xf2570186500a46986f3139f65afedc2afe4f445d\n",
       "42  0xf29ebe930a539a60279ace72c707cba851a57707\n",
       "43  0x94602b0e2512ddad62a935763bf1277c973b2758\n",
       "44  0xa11e4ed59dc94e69612f3111942626ed513cb172\n",
       "45  0xcc88937f325d1c6b97da0afdbb4ca542efa70870\n",
       "46  0x8bb1bfdb49b4d75b2fa1291e2a897d66cc6717b3\n",
       "47  0x741f1923974464efd0aa70e77800ba5d9ed18902\n",
       "48  0x4c0d948d293d3a57391ccb42a2ff9744998aa215\n",
       "49  0xc320e373b369b58e716c1925780d36f703030f3d\n",
       "50  0x58058b28e7a9c49253146b1bec94cc6e733e3ca4\n",
       "51  0x5ace17f87c7391e5792a7683069a8025b83bbd85\n",
       "52  0xb801f35f99b437bcef8789db26d1695c26c7b14b"
      ]
     },
     "execution_count": 8,
     "metadata": {},
     "output_type": "execute_result"
    }
   ],
   "source": [
    "SBcuratedAddresses = get_Addresses(addressesFile = ['SBcurated.csv'])\n",
    "SBcuratedAddresses"
   ]
  },
  {
   "attachments": {},
   "cell_type": "markdown",
   "metadata": {},
   "source": [
    "## **2. Retrieve Contract Features**\n",
    "---"
   ]
  },
  {
   "cell_type": "code",
   "execution_count": null,
   "metadata": {},
   "outputs": [],
   "source": [
    "get_ContractFeatures(FeatureType=['All'],addresses=SBcuratedAddresses,DatasetName='SBcurated')"
   ]
  },
  {
   "attachments": {},
   "cell_type": "markdown",
   "metadata": {},
   "source": [
    "## **3. Extract Code Metrics**\n",
    "---"
   ]
  },
  {
   "cell_type": "code",
   "execution_count": null,
   "metadata": {},
   "outputs": [],
   "source": []
  },
  {
   "attachments": {},
   "cell_type": "markdown",
   "metadata": {},
   "source": [
    "## **4. Assemble Dataset Parts**\n",
    "---"
   ]
  },
  {
   "cell_type": "code",
   "execution_count": null,
   "metadata": {},
   "outputs": [],
   "source": []
  },
  {
   "attachments": {},
   "cell_type": "markdown",
   "metadata": {},
   "source": [
    "## **5. Apply Data Preprocessing**\n",
    "---"
   ]
  },
  {
   "cell_type": "code",
   "execution_count": null,
   "metadata": {},
   "outputs": [],
   "source": []
  },
  {
   "attachments": {},
   "cell_type": "markdown",
   "metadata": {},
   "source": [
    "## **6. Statistics & Analysis**\n",
    "---"
   ]
  },
  {
   "cell_type": "code",
   "execution_count": null,
   "metadata": {},
   "outputs": [],
   "source": []
  },
  {
   "attachments": {},
   "cell_type": "markdown",
   "metadata": {},
   "source": [
    "# **Dataset #5: SWCregistry**\n",
    "---"
   ]
  },
  {
   "attachments": {},
   "cell_type": "markdown",
   "metadata": {},
   "source": [
    "## **1. Read Addresses**\n",
    "---"
   ]
  },
  {
   "cell_type": "code",
   "execution_count": 10,
   "metadata": {},
   "outputs": [
    {
     "data": {
      "text/html": [
       "<div>\n",
       "<style scoped>\n",
       "    .dataframe tbody tr th:only-of-type {\n",
       "        vertical-align: middle;\n",
       "    }\n",
       "\n",
       "    .dataframe tbody tr th {\n",
       "        vertical-align: top;\n",
       "    }\n",
       "\n",
       "    .dataframe thead th {\n",
       "        text-align: right;\n",
       "    }\n",
       "</style>\n",
       "<table border=\"1\" class=\"dataframe\">\n",
       "  <thead>\n",
       "    <tr style=\"text-align: right;\">\n",
       "      <th></th>\n",
       "      <th>contractAddress</th>\n",
       "    </tr>\n",
       "  </thead>\n",
       "  <tbody>\n",
       "    <tr>\n",
       "      <th>0</th>\n",
       "      <td>0x1b75b90e60070d37cfa9d87affd124bb345bf70a</td>\n",
       "    </tr>\n",
       "    <tr>\n",
       "      <th>1</th>\n",
       "      <td>0x55011de64cffc2c79007f6aa82ec1e6df7193bf5</td>\n",
       "    </tr>\n",
       "    <tr>\n",
       "      <th>2</th>\n",
       "      <td>0xa8fbf2c5508328507c25ff5e66eff773e2a04a78</td>\n",
       "    </tr>\n",
       "    <tr>\n",
       "      <th>3</th>\n",
       "      <td>0xe9fcd2ded4a1c35cc84b4504e1d7df609a00ee43</td>\n",
       "    </tr>\n",
       "    <tr>\n",
       "      <th>4</th>\n",
       "      <td>0x816d5091bfc7fb29945ab9d2386d867bb5d6b002</td>\n",
       "    </tr>\n",
       "    <tr>\n",
       "      <th>5</th>\n",
       "      <td>0x0e9bc39206663730e73b10fc3dcddaec966fe72e</td>\n",
       "    </tr>\n",
       "  </tbody>\n",
       "</table>\n",
       "</div>"
      ],
      "text/plain": [
       "                              contractAddress\n",
       "0  0x1b75b90e60070d37cfa9d87affd124bb345bf70a\n",
       "1  0x55011de64cffc2c79007f6aa82ec1e6df7193bf5\n",
       "2  0xa8fbf2c5508328507c25ff5e66eff773e2a04a78\n",
       "3  0xe9fcd2ded4a1c35cc84b4504e1d7df609a00ee43\n",
       "4  0x816d5091bfc7fb29945ab9d2386d867bb5d6b002\n",
       "5  0x0e9bc39206663730e73b10fc3dcddaec966fe72e"
      ]
     },
     "execution_count": 10,
     "metadata": {},
     "output_type": "execute_result"
    }
   ],
   "source": [
    "SWCregistryAddresses = get_Addresses(addressesFile = ['SWCregistry.csv'])\n",
    "SWCregistryAddresses"
   ]
  },
  {
   "attachments": {},
   "cell_type": "markdown",
   "metadata": {},
   "source": [
    "## **2. Retrieve Contract Features**\n",
    "---"
   ]
  },
  {
   "cell_type": "code",
   "execution_count": null,
   "metadata": {},
   "outputs": [],
   "source": [
    "get_ContractFeatures(FeatureType=['All'],addresses=SWCregistryAddresses,DatasetName='SWCregistry')"
   ]
  },
  {
   "attachments": {},
   "cell_type": "markdown",
   "metadata": {},
   "source": [
    "## **3. Extract Code Metrics**\n",
    "---"
   ]
  },
  {
   "cell_type": "code",
   "execution_count": null,
   "metadata": {},
   "outputs": [],
   "source": []
  },
  {
   "attachments": {},
   "cell_type": "markdown",
   "metadata": {},
   "source": [
    "## **4. Assemble Dataset Parts**\n",
    "---"
   ]
  },
  {
   "cell_type": "code",
   "execution_count": null,
   "metadata": {},
   "outputs": [],
   "source": []
  },
  {
   "attachments": {},
   "cell_type": "markdown",
   "metadata": {},
   "source": [
    "## **5. Apply Data Preprocessing**\n",
    "---"
   ]
  },
  {
   "cell_type": "code",
   "execution_count": null,
   "metadata": {},
   "outputs": [],
   "source": []
  },
  {
   "attachments": {},
   "cell_type": "markdown",
   "metadata": {},
   "source": [
    "## **6. Statistics & Analysis**\n",
    "---"
   ]
  },
  {
   "cell_type": "code",
   "execution_count": null,
   "metadata": {},
   "outputs": [],
   "source": []
  }
 ],
 "metadata": {
  "kernelspec": {
   "display_name": "Python 3",
   "language": "python",
   "name": "python3"
  },
  "language_info": {
   "codemirror_mode": {
    "name": "ipython",
    "version": 3
   },
   "file_extension": ".py",
   "mimetype": "text/x-python",
   "name": "python",
   "nbconvert_exporter": "python",
   "pygments_lexer": "ipython3",
   "version": "3.12.2"
  },
  "orig_nbformat": 4
 },
 "nbformat": 4,
 "nbformat_minor": 2
}
